{
  "nbformat": 4,
  "nbformat_minor": 0,
  "metadata": {
    "kernelspec": {
      "display_name": "Python 3",
      "language": "python",
      "name": "python3"
    },
    "language_info": {
      "codemirror_mode": {
        "name": "ipython",
        "version": 3
      },
      "file_extension": ".py",
      "mimetype": "text/x-python",
      "name": "python",
      "nbconvert_exporter": "python",
      "pygments_lexer": "ipython3",
      "version": "3.7.4"
    },
    "colab": {
      "name": "ML_GAP_v7.ipynb",
      "provenance": [],
      "collapsed_sections": [],
      "include_colab_link": true
    }
  },
  "cells": [
    {
      "cell_type": "markdown",
      "metadata": {
        "id": "view-in-github",
        "colab_type": "text"
      },
      "source": [
        "<a href=\"https://colab.research.google.com/github/giordanap/luchin-model/blob/master/ML_GAP_v7.ipynb\" target=\"_parent\"><img src=\"https://colab.research.google.com/assets/colab-badge.svg\" alt=\"Open In Colab\"/></a>"
      ]
    },
    {
      "cell_type": "code",
      "metadata": {
        "id": "aX9f7x7VXKhZ",
        "colab_type": "code",
        "colab": {}
      },
      "source": [
        "#Importar las librerías necesarias en Python.\n",
        "import pandas as pd ## Manejo de dataframes o set de datos\n",
        "import warnings\n",
        "warnings.filterwarnings(\"ignore\")\n",
        "import matplotlib.pyplot as plt ## Todo lo referente a gráficas y demás.\n",
        "import numpy as np ## Todo lo referente a trabajar con vectores y matrices\n",
        "from scipy import stats ## Herramientas y algoritmos matemáticos para python\n",
        "import seaborn as sns # Se basa en Matplotlib y la complementa en el tema de graficos y demás.\n",
        "import math\n",
        "\n",
        "from sklearn.model_selection import train_test_split\n",
        "from sklearn import metrics\n",
        "from sklearn.ensemble import RandomForestClassifier\n",
        "\n",
        "from sklearn.ensemble import RandomForestClassifier\n",
        "from boruta import BorutaPy\n",
        "\n",
        "from sklearn.tree import DecisionTreeClassifier\n",
        "from sklearn import metrics as metrics\n",
        "\n",
        "from plot_metric.functions import BinaryClassification\n",
        "\n",
        "%matplotlib inline"
      ],
      "execution_count": null,
      "outputs": []
    },
    {
      "cell_type": "code",
      "metadata": {
        "id": "y8aH4QrFXKhc",
        "colab_type": "code",
        "colab": {}
      },
      "source": [
        "def formRUTA(ruta):\n",
        "    if ruta[len(ruta)-1] != '\\\\':\n",
        "        ruta = ruta + '\\\\'\n",
        "        ruta = ruta.replace('\\\\', '/')\n",
        "        return ruta\n",
        "    elif ruta[len(ruta)-1] != '/':\n",
        "        ruta = ruta + '/'\n",
        "        return ruta"
      ],
      "execution_count": null,
      "outputs": []
    },
    {
      "cell_type": "code",
      "metadata": {
        "id": "coWfML6IXKhf",
        "colab_type": "code",
        "colab": {},
        "outputId": "1cf85234-c6b4-4f4b-c451-9b7affc4334c"
      },
      "source": [
        "ruta = input()\n",
        "ruta = formRUTA(ruta)\n",
        "# D:\\Users\\Usiario-Acceso\\Downloads"
      ],
      "execution_count": null,
      "outputs": [
        {
          "output_type": "stream",
          "text": [
            "D:\\Users\\Usiario-Acceso\\Downloads\n"
          ],
          "name": "stdout"
        }
      ]
    },
    {
      "cell_type": "code",
      "metadata": {
        "id": "wdkpHMDKXKhh",
        "colab_type": "code",
        "colab": {}
      },
      "source": [
        "df = pd.read_csv(ruta + \"/\" + \"train.csv\")"
      ],
      "execution_count": null,
      "outputs": []
    },
    {
      "cell_type": "code",
      "metadata": {
        "id": "-9qt3MqFXKhk",
        "colab_type": "code",
        "colab": {},
        "outputId": "7d58e73e-2418-425a-cdd0-b81fae2c8606"
      },
      "source": [
        "df.head(2)"
      ],
      "execution_count": null,
      "outputs": [
        {
          "output_type": "execute_result",
          "data": {
            "text/html": [
              "<div>\n",
              "<style scoped>\n",
              "    .dataframe tbody tr th:only-of-type {\n",
              "        vertical-align: middle;\n",
              "    }\n",
              "\n",
              "    .dataframe tbody tr th {\n",
              "        vertical-align: top;\n",
              "    }\n",
              "\n",
              "    .dataframe thead th {\n",
              "        text-align: right;\n",
              "    }\n",
              "</style>\n",
              "<table border=\"1\" class=\"dataframe\">\n",
              "  <thead>\n",
              "    <tr style=\"text-align: right;\">\n",
              "      <th></th>\n",
              "      <th>Loan_ID</th>\n",
              "      <th>Gender</th>\n",
              "      <th>Married</th>\n",
              "      <th>Dependents</th>\n",
              "      <th>Education</th>\n",
              "      <th>Self_Employed</th>\n",
              "      <th>ApplicantIncome</th>\n",
              "      <th>CoapplicantIncome</th>\n",
              "      <th>LoanAmount</th>\n",
              "      <th>Loan_Amount_Term</th>\n",
              "      <th>Credit_History</th>\n",
              "      <th>Property_Area</th>\n",
              "      <th>Loan_Status</th>\n",
              "    </tr>\n",
              "  </thead>\n",
              "  <tbody>\n",
              "    <tr>\n",
              "      <td>0</td>\n",
              "      <td>LP001002</td>\n",
              "      <td>Male</td>\n",
              "      <td>No</td>\n",
              "      <td>0</td>\n",
              "      <td>Graduate</td>\n",
              "      <td>No</td>\n",
              "      <td>5849</td>\n",
              "      <td>0.0</td>\n",
              "      <td>NaN</td>\n",
              "      <td>360.0</td>\n",
              "      <td>1.0</td>\n",
              "      <td>Urban</td>\n",
              "      <td>Y</td>\n",
              "    </tr>\n",
              "    <tr>\n",
              "      <td>1</td>\n",
              "      <td>LP001003</td>\n",
              "      <td>Male</td>\n",
              "      <td>Yes</td>\n",
              "      <td>1</td>\n",
              "      <td>Graduate</td>\n",
              "      <td>No</td>\n",
              "      <td>4583</td>\n",
              "      <td>1508.0</td>\n",
              "      <td>128.0</td>\n",
              "      <td>360.0</td>\n",
              "      <td>1.0</td>\n",
              "      <td>Rural</td>\n",
              "      <td>N</td>\n",
              "    </tr>\n",
              "  </tbody>\n",
              "</table>\n",
              "</div>"
            ],
            "text/plain": [
              "    Loan_ID Gender Married Dependents Education Self_Employed  \\\n",
              "0  LP001002   Male      No          0  Graduate            No   \n",
              "1  LP001003   Male     Yes          1  Graduate            No   \n",
              "\n",
              "   ApplicantIncome  CoapplicantIncome  LoanAmount  Loan_Amount_Term  \\\n",
              "0             5849                0.0         NaN             360.0   \n",
              "1             4583             1508.0       128.0             360.0   \n",
              "\n",
              "   Credit_History Property_Area Loan_Status  \n",
              "0             1.0         Urban           Y  \n",
              "1             1.0         Rural           N  "
            ]
          },
          "metadata": {
            "tags": []
          },
          "execution_count": 5
        }
      ]
    },
    {
      "cell_type": "code",
      "metadata": {
        "scrolled": true,
        "id": "rtua_qCbXKhm",
        "colab_type": "code",
        "colab": {},
        "outputId": "2e43dac4-7bf0-448d-c759-48c27a066570"
      },
      "source": [
        "df.shape"
      ],
      "execution_count": null,
      "outputs": [
        {
          "output_type": "execute_result",
          "data": {
            "text/plain": [
              "(614, 13)"
            ]
          },
          "metadata": {
            "tags": []
          },
          "execution_count": 6
        }
      ]
    },
    {
      "cell_type": "code",
      "metadata": {
        "id": "xZsQ7oTZXKho",
        "colab_type": "code",
        "colab": {},
        "outputId": "d00359e6-b20a-4ee6-dd93-3d7402d5abb9"
      },
      "source": [
        "df.info()"
      ],
      "execution_count": null,
      "outputs": [
        {
          "output_type": "stream",
          "text": [
            "<class 'pandas.core.frame.DataFrame'>\n",
            "RangeIndex: 614 entries, 0 to 613\n",
            "Data columns (total 13 columns):\n",
            "Loan_ID              614 non-null object\n",
            "Gender               601 non-null object\n",
            "Married              611 non-null object\n",
            "Dependents           599 non-null object\n",
            "Education            614 non-null object\n",
            "Self_Employed        582 non-null object\n",
            "ApplicantIncome      614 non-null int64\n",
            "CoapplicantIncome    614 non-null float64\n",
            "LoanAmount           592 non-null float64\n",
            "Loan_Amount_Term     600 non-null float64\n",
            "Credit_History       564 non-null float64\n",
            "Property_Area        614 non-null object\n",
            "Loan_Status          614 non-null object\n",
            "dtypes: float64(4), int64(1), object(8)\n",
            "memory usage: 62.5+ KB\n"
          ],
          "name": "stdout"
        }
      ]
    },
    {
      "cell_type": "code",
      "metadata": {
        "id": "pfeM9VZHXKhr",
        "colab_type": "code",
        "colab": {},
        "outputId": "0c8387d6-4353-4747-9501-1445034e1cab"
      },
      "source": [
        "df.describe()"
      ],
      "execution_count": null,
      "outputs": [
        {
          "output_type": "execute_result",
          "data": {
            "text/html": [
              "<div>\n",
              "<style scoped>\n",
              "    .dataframe tbody tr th:only-of-type {\n",
              "        vertical-align: middle;\n",
              "    }\n",
              "\n",
              "    .dataframe tbody tr th {\n",
              "        vertical-align: top;\n",
              "    }\n",
              "\n",
              "    .dataframe thead th {\n",
              "        text-align: right;\n",
              "    }\n",
              "</style>\n",
              "<table border=\"1\" class=\"dataframe\">\n",
              "  <thead>\n",
              "    <tr style=\"text-align: right;\">\n",
              "      <th></th>\n",
              "      <th>ApplicantIncome</th>\n",
              "      <th>CoapplicantIncome</th>\n",
              "      <th>LoanAmount</th>\n",
              "      <th>Loan_Amount_Term</th>\n",
              "      <th>Credit_History</th>\n",
              "    </tr>\n",
              "  </thead>\n",
              "  <tbody>\n",
              "    <tr>\n",
              "      <td>count</td>\n",
              "      <td>614.000000</td>\n",
              "      <td>614.000000</td>\n",
              "      <td>592.000000</td>\n",
              "      <td>600.00000</td>\n",
              "      <td>564.000000</td>\n",
              "    </tr>\n",
              "    <tr>\n",
              "      <td>mean</td>\n",
              "      <td>5403.459283</td>\n",
              "      <td>1621.245798</td>\n",
              "      <td>146.412162</td>\n",
              "      <td>342.00000</td>\n",
              "      <td>0.842199</td>\n",
              "    </tr>\n",
              "    <tr>\n",
              "      <td>std</td>\n",
              "      <td>6109.041673</td>\n",
              "      <td>2926.248369</td>\n",
              "      <td>85.587325</td>\n",
              "      <td>65.12041</td>\n",
              "      <td>0.364878</td>\n",
              "    </tr>\n",
              "    <tr>\n",
              "      <td>min</td>\n",
              "      <td>150.000000</td>\n",
              "      <td>0.000000</td>\n",
              "      <td>9.000000</td>\n",
              "      <td>12.00000</td>\n",
              "      <td>0.000000</td>\n",
              "    </tr>\n",
              "    <tr>\n",
              "      <td>25%</td>\n",
              "      <td>2877.500000</td>\n",
              "      <td>0.000000</td>\n",
              "      <td>100.000000</td>\n",
              "      <td>360.00000</td>\n",
              "      <td>1.000000</td>\n",
              "    </tr>\n",
              "    <tr>\n",
              "      <td>50%</td>\n",
              "      <td>3812.500000</td>\n",
              "      <td>1188.500000</td>\n",
              "      <td>128.000000</td>\n",
              "      <td>360.00000</td>\n",
              "      <td>1.000000</td>\n",
              "    </tr>\n",
              "    <tr>\n",
              "      <td>75%</td>\n",
              "      <td>5795.000000</td>\n",
              "      <td>2297.250000</td>\n",
              "      <td>168.000000</td>\n",
              "      <td>360.00000</td>\n",
              "      <td>1.000000</td>\n",
              "    </tr>\n",
              "    <tr>\n",
              "      <td>max</td>\n",
              "      <td>81000.000000</td>\n",
              "      <td>41667.000000</td>\n",
              "      <td>700.000000</td>\n",
              "      <td>480.00000</td>\n",
              "      <td>1.000000</td>\n",
              "    </tr>\n",
              "  </tbody>\n",
              "</table>\n",
              "</div>"
            ],
            "text/plain": [
              "       ApplicantIncome  CoapplicantIncome  LoanAmount  Loan_Amount_Term  \\\n",
              "count       614.000000         614.000000  592.000000         600.00000   \n",
              "mean       5403.459283        1621.245798  146.412162         342.00000   \n",
              "std        6109.041673        2926.248369   85.587325          65.12041   \n",
              "min         150.000000           0.000000    9.000000          12.00000   \n",
              "25%        2877.500000           0.000000  100.000000         360.00000   \n",
              "50%        3812.500000        1188.500000  128.000000         360.00000   \n",
              "75%        5795.000000        2297.250000  168.000000         360.00000   \n",
              "max       81000.000000       41667.000000  700.000000         480.00000   \n",
              "\n",
              "       Credit_History  \n",
              "count      564.000000  \n",
              "mean         0.842199  \n",
              "std          0.364878  \n",
              "min          0.000000  \n",
              "25%          1.000000  \n",
              "50%          1.000000  \n",
              "75%          1.000000  \n",
              "max          1.000000  "
            ]
          },
          "metadata": {
            "tags": []
          },
          "execution_count": 8
        }
      ]
    },
    {
      "cell_type": "code",
      "metadata": {
        "id": "x-1myb9hXKhv",
        "colab_type": "code",
        "colab": {}
      },
      "source": [
        "## Aquí hay algunas conclusiones importantes"
      ],
      "execution_count": null,
      "outputs": []
    },
    {
      "cell_type": "markdown",
      "metadata": {
        "id": "vRTmFGgRXKhx",
        "colab_type": "text"
      },
      "source": [
        "1. LoanAmount tiene (614 – 592) 22 valores perdidos.\n",
        "2. Loan_Amount_Term tiene (614 – 600) 14 valores perdidos.\n",
        "3. Credit_History tiene (614 – 564) 50 valores perdidos.\n",
        "4. Nosotros podemos también observar que cerca del 84% de los solicitantes al préstamo tienen un historial crediticio. ¿Cómo? La media del campo Credit_History es 0.84 (Recordemos, Credit_History tiene o toma el valor 1 para aquellos que tienen historial crediticio y 0 en caso contrario).\n",
        "5. La variable ApplicantIncome parece estar en línea con las espectativas al igual que CoapplicantIncome."
      ]
    },
    {
      "cell_type": "code",
      "metadata": {
        "collapsed": true,
        "id": "rKBMweRIXKhx",
        "colab_type": "code",
        "colab": {},
        "outputId": "94a51697-a841-4ebb-a0b7-83dc17debe66"
      },
      "source": [
        "# Tabla Resumen\n",
        "df.describe(include='all') # Describir todas las variables."
      ],
      "execution_count": null,
      "outputs": [
        {
          "output_type": "execute_result",
          "data": {
            "text/html": [
              "<div>\n",
              "<style scoped>\n",
              "    .dataframe tbody tr th:only-of-type {\n",
              "        vertical-align: middle;\n",
              "    }\n",
              "\n",
              "    .dataframe tbody tr th {\n",
              "        vertical-align: top;\n",
              "    }\n",
              "\n",
              "    .dataframe thead th {\n",
              "        text-align: right;\n",
              "    }\n",
              "</style>\n",
              "<table border=\"1\" class=\"dataframe\">\n",
              "  <thead>\n",
              "    <tr style=\"text-align: right;\">\n",
              "      <th></th>\n",
              "      <th>Loan_ID</th>\n",
              "      <th>Gender</th>\n",
              "      <th>Married</th>\n",
              "      <th>Dependents</th>\n",
              "      <th>Education</th>\n",
              "      <th>Self_Employed</th>\n",
              "      <th>ApplicantIncome</th>\n",
              "      <th>CoapplicantIncome</th>\n",
              "      <th>LoanAmount</th>\n",
              "      <th>Loan_Amount_Term</th>\n",
              "      <th>Credit_History</th>\n",
              "      <th>Property_Area</th>\n",
              "      <th>Loan_Status</th>\n",
              "    </tr>\n",
              "  </thead>\n",
              "  <tbody>\n",
              "    <tr>\n",
              "      <td>count</td>\n",
              "      <td>614</td>\n",
              "      <td>601</td>\n",
              "      <td>611</td>\n",
              "      <td>599</td>\n",
              "      <td>614</td>\n",
              "      <td>582</td>\n",
              "      <td>614.000000</td>\n",
              "      <td>614.000000</td>\n",
              "      <td>592.000000</td>\n",
              "      <td>600.00000</td>\n",
              "      <td>564.000000</td>\n",
              "      <td>614</td>\n",
              "      <td>614</td>\n",
              "    </tr>\n",
              "    <tr>\n",
              "      <td>unique</td>\n",
              "      <td>614</td>\n",
              "      <td>2</td>\n",
              "      <td>2</td>\n",
              "      <td>4</td>\n",
              "      <td>2</td>\n",
              "      <td>2</td>\n",
              "      <td>NaN</td>\n",
              "      <td>NaN</td>\n",
              "      <td>NaN</td>\n",
              "      <td>NaN</td>\n",
              "      <td>NaN</td>\n",
              "      <td>3</td>\n",
              "      <td>2</td>\n",
              "    </tr>\n",
              "    <tr>\n",
              "      <td>top</td>\n",
              "      <td>LP002784</td>\n",
              "      <td>Male</td>\n",
              "      <td>Yes</td>\n",
              "      <td>0</td>\n",
              "      <td>Graduate</td>\n",
              "      <td>No</td>\n",
              "      <td>NaN</td>\n",
              "      <td>NaN</td>\n",
              "      <td>NaN</td>\n",
              "      <td>NaN</td>\n",
              "      <td>NaN</td>\n",
              "      <td>Semiurban</td>\n",
              "      <td>Y</td>\n",
              "    </tr>\n",
              "    <tr>\n",
              "      <td>freq</td>\n",
              "      <td>1</td>\n",
              "      <td>489</td>\n",
              "      <td>398</td>\n",
              "      <td>345</td>\n",
              "      <td>480</td>\n",
              "      <td>500</td>\n",
              "      <td>NaN</td>\n",
              "      <td>NaN</td>\n",
              "      <td>NaN</td>\n",
              "      <td>NaN</td>\n",
              "      <td>NaN</td>\n",
              "      <td>233</td>\n",
              "      <td>422</td>\n",
              "    </tr>\n",
              "    <tr>\n",
              "      <td>mean</td>\n",
              "      <td>NaN</td>\n",
              "      <td>NaN</td>\n",
              "      <td>NaN</td>\n",
              "      <td>NaN</td>\n",
              "      <td>NaN</td>\n",
              "      <td>NaN</td>\n",
              "      <td>5403.459283</td>\n",
              "      <td>1621.245798</td>\n",
              "      <td>146.412162</td>\n",
              "      <td>342.00000</td>\n",
              "      <td>0.842199</td>\n",
              "      <td>NaN</td>\n",
              "      <td>NaN</td>\n",
              "    </tr>\n",
              "    <tr>\n",
              "      <td>std</td>\n",
              "      <td>NaN</td>\n",
              "      <td>NaN</td>\n",
              "      <td>NaN</td>\n",
              "      <td>NaN</td>\n",
              "      <td>NaN</td>\n",
              "      <td>NaN</td>\n",
              "      <td>6109.041673</td>\n",
              "      <td>2926.248369</td>\n",
              "      <td>85.587325</td>\n",
              "      <td>65.12041</td>\n",
              "      <td>0.364878</td>\n",
              "      <td>NaN</td>\n",
              "      <td>NaN</td>\n",
              "    </tr>\n",
              "    <tr>\n",
              "      <td>min</td>\n",
              "      <td>NaN</td>\n",
              "      <td>NaN</td>\n",
              "      <td>NaN</td>\n",
              "      <td>NaN</td>\n",
              "      <td>NaN</td>\n",
              "      <td>NaN</td>\n",
              "      <td>150.000000</td>\n",
              "      <td>0.000000</td>\n",
              "      <td>9.000000</td>\n",
              "      <td>12.00000</td>\n",
              "      <td>0.000000</td>\n",
              "      <td>NaN</td>\n",
              "      <td>NaN</td>\n",
              "    </tr>\n",
              "    <tr>\n",
              "      <td>25%</td>\n",
              "      <td>NaN</td>\n",
              "      <td>NaN</td>\n",
              "      <td>NaN</td>\n",
              "      <td>NaN</td>\n",
              "      <td>NaN</td>\n",
              "      <td>NaN</td>\n",
              "      <td>2877.500000</td>\n",
              "      <td>0.000000</td>\n",
              "      <td>100.000000</td>\n",
              "      <td>360.00000</td>\n",
              "      <td>1.000000</td>\n",
              "      <td>NaN</td>\n",
              "      <td>NaN</td>\n",
              "    </tr>\n",
              "    <tr>\n",
              "      <td>50%</td>\n",
              "      <td>NaN</td>\n",
              "      <td>NaN</td>\n",
              "      <td>NaN</td>\n",
              "      <td>NaN</td>\n",
              "      <td>NaN</td>\n",
              "      <td>NaN</td>\n",
              "      <td>3812.500000</td>\n",
              "      <td>1188.500000</td>\n",
              "      <td>128.000000</td>\n",
              "      <td>360.00000</td>\n",
              "      <td>1.000000</td>\n",
              "      <td>NaN</td>\n",
              "      <td>NaN</td>\n",
              "    </tr>\n",
              "    <tr>\n",
              "      <td>75%</td>\n",
              "      <td>NaN</td>\n",
              "      <td>NaN</td>\n",
              "      <td>NaN</td>\n",
              "      <td>NaN</td>\n",
              "      <td>NaN</td>\n",
              "      <td>NaN</td>\n",
              "      <td>5795.000000</td>\n",
              "      <td>2297.250000</td>\n",
              "      <td>168.000000</td>\n",
              "      <td>360.00000</td>\n",
              "      <td>1.000000</td>\n",
              "      <td>NaN</td>\n",
              "      <td>NaN</td>\n",
              "    </tr>\n",
              "    <tr>\n",
              "      <td>max</td>\n",
              "      <td>NaN</td>\n",
              "      <td>NaN</td>\n",
              "      <td>NaN</td>\n",
              "      <td>NaN</td>\n",
              "      <td>NaN</td>\n",
              "      <td>NaN</td>\n",
              "      <td>81000.000000</td>\n",
              "      <td>41667.000000</td>\n",
              "      <td>700.000000</td>\n",
              "      <td>480.00000</td>\n",
              "      <td>1.000000</td>\n",
              "      <td>NaN</td>\n",
              "      <td>NaN</td>\n",
              "    </tr>\n",
              "  </tbody>\n",
              "</table>\n",
              "</div>"
            ],
            "text/plain": [
              "         Loan_ID Gender Married Dependents Education Self_Employed  \\\n",
              "count        614    601     611        599       614           582   \n",
              "unique       614      2       2          4         2             2   \n",
              "top     LP002784   Male     Yes          0  Graduate            No   \n",
              "freq           1    489     398        345       480           500   \n",
              "mean         NaN    NaN     NaN        NaN       NaN           NaN   \n",
              "std          NaN    NaN     NaN        NaN       NaN           NaN   \n",
              "min          NaN    NaN     NaN        NaN       NaN           NaN   \n",
              "25%          NaN    NaN     NaN        NaN       NaN           NaN   \n",
              "50%          NaN    NaN     NaN        NaN       NaN           NaN   \n",
              "75%          NaN    NaN     NaN        NaN       NaN           NaN   \n",
              "max          NaN    NaN     NaN        NaN       NaN           NaN   \n",
              "\n",
              "        ApplicantIncome  CoapplicantIncome  LoanAmount  Loan_Amount_Term  \\\n",
              "count        614.000000         614.000000  592.000000         600.00000   \n",
              "unique              NaN                NaN         NaN               NaN   \n",
              "top                 NaN                NaN         NaN               NaN   \n",
              "freq                NaN                NaN         NaN               NaN   \n",
              "mean        5403.459283        1621.245798  146.412162         342.00000   \n",
              "std         6109.041673        2926.248369   85.587325          65.12041   \n",
              "min          150.000000           0.000000    9.000000          12.00000   \n",
              "25%         2877.500000           0.000000  100.000000         360.00000   \n",
              "50%         3812.500000        1188.500000  128.000000         360.00000   \n",
              "75%         5795.000000        2297.250000  168.000000         360.00000   \n",
              "max        81000.000000       41667.000000  700.000000         480.00000   \n",
              "\n",
              "        Credit_History Property_Area Loan_Status  \n",
              "count       564.000000           614         614  \n",
              "unique             NaN             3           2  \n",
              "top                NaN     Semiurban           Y  \n",
              "freq               NaN           233         422  \n",
              "mean          0.842199           NaN         NaN  \n",
              "std           0.364878           NaN         NaN  \n",
              "min           0.000000           NaN         NaN  \n",
              "25%           1.000000           NaN         NaN  \n",
              "50%           1.000000           NaN         NaN  \n",
              "75%           1.000000           NaN         NaN  \n",
              "max           1.000000           NaN         NaN  "
            ]
          },
          "metadata": {
            "tags": []
          },
          "execution_count": 10
        }
      ]
    },
    {
      "cell_type": "code",
      "metadata": {
        "collapsed": true,
        "id": "Dls7qdzwXKh0",
        "colab_type": "code",
        "colab": {},
        "outputId": "4be1337a-5ac9-44db-e735-61e5a6dc32e9"
      },
      "source": [
        "fig, axes = plt.subplots(nrows=2, ncols=2, figsize = (18, 4))\n",
        "# outliers\n",
        "green_diamond = dict(markerfacecolor='g', marker='D')\n",
        "red_square = dict(markerfacecolor='r', marker='s')\n",
        "\n",
        "# BOXPLOTS\n",
        "# df.boxplot(ax=axes[0], column=[\"EDAD\"],by='CHURN', vert=False,grid = False, figsize = (1, 1))\n",
        "# df.boxplot(ax=axes[1], column=[\"HIJOS\"],by='CHURN', vert=False, grid = False, figsize = (1, 1))\n",
        "# df.boxplot(ax=axes[2], column=[\"INGRESO\"],by='CHURN', vert=False, grid = False, figsize = (1, 1))\n",
        "# # HISTOGRAMS\n",
        "df.hist(ax=axes[0,0], column=[\"ApplicantIncome\"], normed=True, bins=50, alpha=0.5, figsize = (10, 6))\n",
        "df.hist(ax=axes[0,1], column=[\"CoapplicantIncome\"], normed=True, bins=4, alpha=0.5, figsize = (10, 6))\n",
        "df.hist(ax=axes[1,0], column=[\"LoanAmount\"], normed=True, bins=20, alpha=0.5, figsize = (10, 6))\n",
        "df.hist(ax=axes[1,1], column=[\"Loan_Amount_Term\"], normed=True, bins=20, alpha=0.5, figsize = (10, 6))"
      ],
      "execution_count": null,
      "outputs": [
        {
          "output_type": "execute_result",
          "data": {
            "text/plain": [
              "array([<matplotlib.axes._subplots.AxesSubplot object at 0x0000025967D999C8>],\n",
              "      dtype=object)"
            ]
          },
          "metadata": {
            "tags": []
          },
          "execution_count": 11
        },
        {
          "output_type": "display_data",
          "data": {
            "image/png": "[encoded data removed]",
            "text/plain": [
              "<Figure size 1296x288 with 4 Axes>"
            ]
          },
          "metadata": {
            "tags": [],
            "needs_background": "light"
          }
        }
      ]
    },
    {
      "cell_type": "code",
      "metadata": {
        "id": "MVeyzdmIXKh2",
        "colab_type": "code",
        "colab": {},
        "outputId": "48420e6c-5842-48f1-b789-d6d9d4c8db23"
      },
      "source": [
        "# Para ver las variables con valores perdidos \n",
        "df_null_col = df.isnull().any(axis = 0)\n",
        "df_null_col = df_null_col[df_null_col == True].index.tolist()\n",
        "df_null_col"
      ],
      "execution_count": null,
      "outputs": [
        {
          "output_type": "execute_result",
          "data": {
            "text/plain": [
              "['Gender',\n",
              " 'Married',\n",
              " 'Dependents',\n",
              " 'Self_Employed',\n",
              " 'LoanAmount',\n",
              " 'Loan_Amount_Term',\n",
              " 'Credit_History']"
            ]
          },
          "metadata": {
            "tags": []
          },
          "execution_count": 12
        }
      ]
    },
    {
      "cell_type": "code",
      "metadata": {
        "id": "gJ2sQUzAXKh4",
        "colab_type": "code",
        "colab": {}
      },
      "source": [
        "def graph_nulos(base,lim=0.1):\n",
        "  \n",
        "  # columnas nulos\n",
        "  null_col = base.isnull().any(axis = 0)\n",
        "  null_col = null_col[null_col == True].index.tolist()\n",
        "\n",
        "  # Niveles alto de nulos\n",
        "  df_nulos_graph = base[null_col].isnull().sum(axis = 0).round(4)\n",
        "  df_nulos_graph = df_nulos_graph.sort_values()/base.shape[0]\n",
        "  df_nulos_graph = pd.DataFrame(df_nulos_graph,columns=[\"nulos\"])\n",
        "  a = df_nulos_graph\n",
        "  # por defecto el límite de nulos por variable es del 10% \n",
        "  a['nulos'] = np.where(a['nulos'] > lim,\n",
        "                        a['nulos'],0) \n",
        "  a = a.reset_index()\n",
        "  \n",
        "  # Niveles medio de nulos\n",
        "  df_nulos_graph = base[null_col].isnull().sum(axis = 0).round(4)\n",
        "  df_nulos_graph = df_nulos_graph.sort_values()/base.shape[0]\n",
        "  df_nulos_graph = pd.DataFrame(df_nulos_graph,columns=[\"nulos\"])\n",
        "  b = df_nulos_graph\n",
        "  b['nulos'] = np.where(b['nulos'] <= lim,\n",
        "                        b['nulos'],0)\n",
        "  b = b.reset_index() \n",
        "\n",
        "  fig, ax = plt.subplots()\n",
        "\n",
        "  # Generamos las barras para los \n",
        "  plt_graph_a = ax.barh(a[\"index\"],a[\"nulos\"],label = \"Alto\")\n",
        "  plt_graph_b = ax.barh(b[\"index\"],b[\"nulos\"],label = \"Medio\",color = 'g')\n",
        "  ax.set_xlabel('Porcentaje de Nulos')\n",
        "  ax.set_title('Análisis de Missing')\n",
        "\n",
        "  df_nulos_graph = base[null_col].isnull().sum(axis = 0).round(4)\n",
        "  df_nulos_graph = df_nulos_graph.sort_values()/base.shape[0]\n",
        "  df_nulos_graph = pd.DataFrame(df_nulos_graph,columns=[\"nulos\"])\n",
        "  maximo = df_nulos_graph[\"nulos\"].max()\n",
        "  \n",
        "  if lim == 0.1:\n",
        "    if maximo > lim:\n",
        "      ax.axvline(lim, color='r', ls=\"dotted\")\n",
        "  else:\n",
        "    ax.axvline(lim, color='r', ls=\"dotted\")\n",
        "  \n",
        "  if math.isnan(maximo): \n",
        "      True \n",
        "  else:\n",
        "      ax.legend()\n",
        "\n",
        "  plt.show()"
      ],
      "execution_count": null,
      "outputs": []
    },
    {
      "cell_type": "code",
      "metadata": {
        "id": "S9jLGDAAXKh6",
        "colab_type": "code",
        "colab": {},
        "outputId": "875ba51f-5958-4e76-fcfd-f1b4e3e3a45d"
      },
      "source": [
        "graph_nulos(df)"
      ],
      "execution_count": null,
      "outputs": [
        {
          "output_type": "display_data",
          "data": {
            "image/png": "[encoded data removed]",
            "text/plain": [
              "<Figure size 432x288 with 1 Axes>"
            ]
          },
          "metadata": {
            "tags": [],
            "needs_background": "light"
          }
        }
      ]
    },
    {
      "cell_type": "code",
      "metadata": {
        "id": "Emeb82fwXKh8",
        "colab_type": "code",
        "colab": {},
        "outputId": "69a97a85-a908-47af-92f5-efe247a9c33e"
      },
      "source": [
        "# Visualizamos los valores perdidos respecto a las variables cualititativas\n",
        "df.Gender.value_counts(dropna=False)"
      ],
      "execution_count": null,
      "outputs": [
        {
          "output_type": "execute_result",
          "data": {
            "text/plain": [
              "Male      489\n",
              "Female    112\n",
              "NaN        13\n",
              "Name: Gender, dtype: int64"
            ]
          },
          "metadata": {
            "tags": []
          },
          "execution_count": 15
        }
      ]
    },
    {
      "cell_type": "code",
      "metadata": {
        "id": "lS9mSQ84XKiA",
        "colab_type": "code",
        "colab": {}
      },
      "source": [
        "# Lista de variables numéricas y categóricas:\n",
        "def var_num_cat(base,tipo = \"num\"):\n",
        "  base_types = pd.DataFrame(base.dtypes,columns=[\"type\"])\n",
        "  a = np.isin(base_types[\"type\"],[[\"float64\",\"int64\",\"int32\"]])\n",
        "  if tipo == \"num\":\n",
        "    col = base_types[a].index.tolist()\n",
        "  else:\n",
        "    col = base_types[~a].index.tolist()\n",
        "  return col"
      ],
      "execution_count": null,
      "outputs": []
    },
    {
      "cell_type": "code",
      "metadata": {
        "id": "v9LiqZ8hXKiC",
        "colab_type": "code",
        "colab": {}
      },
      "source": [
        "col_num=var_num_cat(df,'num')"
      ],
      "execution_count": null,
      "outputs": []
    },
    {
      "cell_type": "code",
      "metadata": {
        "id": "3JLOk4toXKiH",
        "colab_type": "code",
        "colab": {},
        "outputId": "445f5c0e-c3bd-4157-f7b9-ae2c83d735ae"
      },
      "source": [
        "col_cat=var_num_cat(df,'cat')\n",
        "col_cat"
      ],
      "execution_count": null,
      "outputs": [
        {
          "output_type": "execute_result",
          "data": {
            "text/plain": [
              "['Loan_ID',\n",
              " 'Gender',\n",
              " 'Married',\n",
              " 'Dependents',\n",
              " 'Education',\n",
              " 'Self_Employed',\n",
              " 'Property_Area',\n",
              " 'Loan_Status']"
            ]
          },
          "metadata": {
            "tags": []
          },
          "execution_count": 18
        }
      ]
    },
    {
      "cell_type": "code",
      "metadata": {
        "id": "l7cl6TZmXKiJ",
        "colab_type": "code",
        "colab": {}
      },
      "source": [
        "# imputacion de categóricas por la moda:\n",
        "def imput_cat_moda(base):\n",
        "  cat = var_num_cat(base,\"cat\")\n",
        "  nulos = base[cat].isnull().any(axis = 0)\n",
        "  nulos = nulos[nulos == True].index.tolist()\n",
        "  for i in nulos: base[i] = base[i].fillna(base[i].mode()[0])"
      ],
      "execution_count": null,
      "outputs": []
    },
    {
      "cell_type": "code",
      "metadata": {
        "id": "5k63SfyoXKiL",
        "colab_type": "code",
        "colab": {}
      },
      "source": [
        "# Imputamos los valores cualitativos por Moda\n",
        "imput_cat_moda(df)\n",
        "\n",
        "# df.Gender = df.Gender.fillna(\"Male\")\n",
        "# df.Married = df.Married.fillna(\"Yes\")\n",
        "# df.Self_Employed = df.Self_Employed.fillna(\"Yes\")\n",
        "# df.Credit_History = df.Credit_History.fillna(\"1\")\n",
        "# df.Dependents = df.Dependents.fillna(\"0\")"
      ],
      "execution_count": null,
      "outputs": []
    },
    {
      "cell_type": "code",
      "metadata": {
        "id": "rwG7URAsXKiN",
        "colab_type": "code",
        "colab": {},
        "outputId": "1ed2c08c-f166-4222-8d9a-32218c9748eb"
      },
      "source": [
        "# Preprocesamiento con LabelEncoder\n",
        "\n",
        "from sklearn.preprocessing import LabelEncoder # PasoN°01: Importo la libreria a usar\n",
        "for c in col_cat:\n",
        "    print(str(c))\n",
        "    le = LabelEncoder()                        #   PasoN°02: Instancio la funcion a desarrollar\n",
        "    le.fit(df[str(c)])                         #   PasoN°03: Ajusto la funcion\n",
        "    df[str(c)]=le.transform(df[str(c)])        #   PasoN°04: Ejecuto la funcion"
      ],
      "execution_count": null,
      "outputs": [
        {
          "output_type": "stream",
          "text": [
            "Loan_ID\n",
            "Gender\n",
            "Married\n",
            "Dependents\n",
            "Education\n",
            "Self_Employed\n",
            "Property_Area\n",
            "Loan_Status\n"
          ],
          "name": "stdout"
        }
      ]
    },
    {
      "cell_type": "code",
      "metadata": {
        "id": "HGeuNjnUXKiP",
        "colab_type": "code",
        "colab": {}
      },
      "source": [
        "df.Dependents = df.Dependents.astype('int32')"
      ],
      "execution_count": null,
      "outputs": []
    },
    {
      "cell_type": "code",
      "metadata": {
        "id": "UgWaZZdVXKiS",
        "colab_type": "code",
        "colab": {}
      },
      "source": [
        "# funcion para imputar columnas numéricas por la mediana:\n",
        "def imput_num_mediana(base):\n",
        "    num = var_num_cat(base)\n",
        "    nulos = base[num].isnull().any()\n",
        "    nulos = nulos[nulos == True].index.tolist()\n",
        "    for i in nulos:\n",
        "        # quitamos los nulos de la variable\n",
        "        lista = [i for i in base[i] if str(i) != 'nan']\n",
        "        largo = len(lista)\n",
        "        if largo % 2 == 1 :\n",
        "            mediana = lista[int((largo-1)/2)]\n",
        "        else:\n",
        "            mediana = (lista[int((largo/2)+1)] + lista[int(largo/2)])/2\n",
        "        base[i].fillna(mediana, inplace=True)"
      ],
      "execution_count": null,
      "outputs": []
    },
    {
      "cell_type": "code",
      "metadata": {
        "id": "PN2VBMalXKiT",
        "colab_type": "code",
        "colab": {}
      },
      "source": [
        "# Imputamos los valores cuantitativos por Media o Mediana\n",
        "## Median\n",
        "imput_num_mediana(df)\n",
        "\n",
        "# for c in columnas_numericas:\n",
        "#     median = desarrll[c].median()\n",
        "#     desarrll[c].fillna(median, inplace=True)"
      ],
      "execution_count": null,
      "outputs": []
    },
    {
      "cell_type": "code",
      "metadata": {
        "id": "VkLlvP5WXKiW",
        "colab_type": "code",
        "colab": {},
        "outputId": "435318e3-c1eb-46f7-f5fb-4761c94e49e9"
      },
      "source": [
        "df.isnull().sum()"
      ],
      "execution_count": null,
      "outputs": [
        {
          "output_type": "execute_result",
          "data": {
            "text/plain": [
              "Loan_ID              0\n",
              "Gender               0\n",
              "Married              0\n",
              "Dependents           0\n",
              "Education            0\n",
              "Self_Employed        0\n",
              "ApplicantIncome      0\n",
              "CoapplicantIncome    0\n",
              "LoanAmount           0\n",
              "Loan_Amount_Term     0\n",
              "Credit_History       0\n",
              "Property_Area        0\n",
              "Loan_Status          0\n",
              "dtype: int64"
            ]
          },
          "metadata": {
            "tags": []
          },
          "execution_count": 26
        }
      ]
    },
    {
      "cell_type": "code",
      "metadata": {
        "id": "yFkW1UPcXKiY",
        "colab_type": "code",
        "colab": {}
      },
      "source": [
        "########################################\n",
        "## Feature Enginnering ##\n",
        "########################################"
      ],
      "execution_count": null,
      "outputs": []
    },
    {
      "cell_type": "code",
      "metadata": {
        "id": "jyeO6iTQXKia",
        "colab_type": "code",
        "colab": {}
      },
      "source": [
        "## Creación de Variables por Decision de Negocio o de acuerdo a metodologías más automatizadas es el\n",
        "# corazon de Machine Learning\n",
        "# También conocido como proceso de Feature Engineering, no olvidar que todo lo que le hacemos al Train o Entrenamiento se lo\n",
        "# debemos hacer a la data de scoreo o data productiva."
      ],
      "execution_count": null,
      "outputs": []
    },
    {
      "cell_type": "code",
      "metadata": {
        "id": "dtlEsY-aXKib",
        "colab_type": "code",
        "colab": {}
      },
      "source": [
        "# Ingenieria de datos\n",
        "#Creamos las variables para el entrenamiento o train\n",
        "\n",
        "df['TotalIncome']    = df['ApplicantIncome'] + df['CoapplicantIncome']\n",
        "df['Log_LoanAmount'] = round(np.log(df['LoanAmount']+1),2)"
      ],
      "execution_count": null,
      "outputs": []
    },
    {
      "cell_type": "code",
      "metadata": {
        "id": "ptcytIscXKid",
        "colab_type": "code",
        "colab": {}
      },
      "source": [
        "df['AmountxTerm']    = round(df['LoanAmount']/df['Loan_Amount_Term'],2)\n",
        "df[\"Cuota_Ingreso1\"] = (1000*df[\"LoanAmount\"]/df[\"Loan_Amount_Term\"])/(df[\"ApplicantIncome\"])\n",
        "df[\"Cuota_Ingreso2\"] = (1000*df[\"LoanAmount\"]/df[\"Loan_Amount_Term\"])/(df[\"TotalIncome\"])\n",
        "df[\"Cuota_Ingreso_Hijo\"] = (1000*df[\"LoanAmount\"]/df[\"Loan_Amount_Term\"])/(df[\"TotalIncome\"]/(df [\"Dependents\"]+1))"
      ],
      "execution_count": null,
      "outputs": []
    },
    {
      "cell_type": "code",
      "metadata": {
        "id": "cWqNtTA9XKih",
        "colab_type": "code",
        "colab": {}
      },
      "source": [
        "# Quitamos el ID\n",
        "df= df.drop('Loan_ID',axis=1)"
      ],
      "execution_count": null,
      "outputs": []
    },
    {
      "cell_type": "code",
      "metadata": {
        "id": "qeId7ATKXKik",
        "colab_type": "code",
        "colab": {}
      },
      "source": [
        "## Si deseamos balancear, podemos hacerlo con toda la informacion?\n",
        "# Creación de la data de train y la data de test\n",
        "x_train, x_test, y_train, y_test = train_test_split(df.drop('Loan_Status', axis=1), # (X,y,%test,estratificacion)\n",
        "                                                    df['Loan_Status'], \n",
        "                                                    test_size=0.30,\n",
        "                                                    stratify=df['Loan_Status'],\n",
        "                                                    random_state=100)"
      ],
      "execution_count": null,
      "outputs": []
    },
    {
      "cell_type": "code",
      "metadata": {
        "id": "KASHLoMtXKim",
        "colab_type": "code",
        "colab": {}
      },
      "source": [
        "########################################\n",
        "# Selección de Variables\n",
        "########################################"
      ],
      "execution_count": null,
      "outputs": []
    },
    {
      "cell_type": "code",
      "metadata": {
        "id": "gkUyz7GmXKin",
        "colab_type": "code",
        "colab": {}
      },
      "source": [
        "# Seleccion por Random Forest\n",
        "from sklearn.ensemble import RandomForestClassifier # Paso01: Instancio el algoritmo\n",
        "forest = RandomForestClassifier()                   # Paso02: Configuro el algoritmo\n",
        "forest.fit(x_train, y_train)                        # Paso03: Ajuste el algoritmo\n",
        "importances = forest.feature_importances_           # Variables importantes"
      ],
      "execution_count": null,
      "outputs": []
    },
    {
      "cell_type": "code",
      "metadata": {
        "id": "E_eU-j0OXKip",
        "colab_type": "code",
        "colab": {},
        "outputId": "ee08b577-6d3f-4ce0-ea21-fc0cb0391196"
      },
      "source": [
        "forest.feature_importances_"
      ],
      "execution_count": null,
      "outputs": [
        {
          "output_type": "execute_result",
          "data": {
            "text/plain": [
              "array([0.00945207, 0.01255779, 0.01835224, 0.01793813, 0.0162038 ,\n",
              "       0.07253853, 0.04315676, 0.04234463, 0.02370239, 0.27615767,\n",
              "       0.03072947, 0.08771594, 0.04917186, 0.05533565, 0.07517507,\n",
              "       0.09656849, 0.07289952])"
            ]
          },
          "metadata": {
            "tags": []
          },
          "execution_count": 38
        }
      ]
    },
    {
      "cell_type": "code",
      "metadata": {
        "id": "vZ9SVgCdXKir",
        "colab_type": "code",
        "colab": {},
        "outputId": "b51709f1-683e-4719-9de9-ed932c28311c"
      },
      "source": [
        "# Seleccion por Random Forest\n",
        "TablaImportancia = pd.concat([pd.DataFrame({'Driver':list(x_train.columns)}),\n",
        "                              pd.DataFrame({'Importancia':list(forest.feature_importances_)})], axis = 1)\n",
        "ImportanciaVariables = TablaImportancia[['Driver','Importancia']].sort_values('Importancia', ascending = False).reset_index(drop = True)\n",
        "ImportanciaVariables"
      ],
      "execution_count": null,
      "outputs": [
        {
          "output_type": "execute_result",
          "data": {
            "text/html": [
              "<div>\n",
              "<style scoped>\n",
              "    .dataframe tbody tr th:only-of-type {\n",
              "        vertical-align: middle;\n",
              "    }\n",
              "\n",
              "    .dataframe tbody tr th {\n",
              "        vertical-align: top;\n",
              "    }\n",
              "\n",
              "    .dataframe thead th {\n",
              "        text-align: right;\n",
              "    }\n",
              "</style>\n",
              "<table border=\"1\" class=\"dataframe\">\n",
              "  <thead>\n",
              "    <tr style=\"text-align: right;\">\n",
              "      <th></th>\n",
              "      <th>Driver</th>\n",
              "      <th>Importancia</th>\n",
              "    </tr>\n",
              "  </thead>\n",
              "  <tbody>\n",
              "    <tr>\n",
              "      <td>0</td>\n",
              "      <td>Credit_History</td>\n",
              "      <td>0.276158</td>\n",
              "    </tr>\n",
              "    <tr>\n",
              "      <td>1</td>\n",
              "      <td>Cuota_Ingreso2</td>\n",
              "      <td>0.096568</td>\n",
              "    </tr>\n",
              "    <tr>\n",
              "      <td>2</td>\n",
              "      <td>TotalIncome</td>\n",
              "      <td>0.087716</td>\n",
              "    </tr>\n",
              "    <tr>\n",
              "      <td>3</td>\n",
              "      <td>Cuota_Ingreso1</td>\n",
              "      <td>0.075175</td>\n",
              "    </tr>\n",
              "    <tr>\n",
              "      <td>4</td>\n",
              "      <td>Cuota_Ingreso_Hijo</td>\n",
              "      <td>0.072900</td>\n",
              "    </tr>\n",
              "    <tr>\n",
              "      <td>5</td>\n",
              "      <td>ApplicantIncome</td>\n",
              "      <td>0.072539</td>\n",
              "    </tr>\n",
              "    <tr>\n",
              "      <td>6</td>\n",
              "      <td>AmountxTerm</td>\n",
              "      <td>0.055336</td>\n",
              "    </tr>\n",
              "    <tr>\n",
              "      <td>7</td>\n",
              "      <td>Log_LoanAmount</td>\n",
              "      <td>0.049172</td>\n",
              "    </tr>\n",
              "    <tr>\n",
              "      <td>8</td>\n",
              "      <td>CoapplicantIncome</td>\n",
              "      <td>0.043157</td>\n",
              "    </tr>\n",
              "    <tr>\n",
              "      <td>9</td>\n",
              "      <td>LoanAmount</td>\n",
              "      <td>0.042345</td>\n",
              "    </tr>\n",
              "    <tr>\n",
              "      <td>10</td>\n",
              "      <td>Property_Area</td>\n",
              "      <td>0.030729</td>\n",
              "    </tr>\n",
              "    <tr>\n",
              "      <td>11</td>\n",
              "      <td>Loan_Amount_Term</td>\n",
              "      <td>0.023702</td>\n",
              "    </tr>\n",
              "    <tr>\n",
              "      <td>12</td>\n",
              "      <td>Dependents</td>\n",
              "      <td>0.018352</td>\n",
              "    </tr>\n",
              "    <tr>\n",
              "      <td>13</td>\n",
              "      <td>Education</td>\n",
              "      <td>0.017938</td>\n",
              "    </tr>\n",
              "    <tr>\n",
              "      <td>14</td>\n",
              "      <td>Self_Employed</td>\n",
              "      <td>0.016204</td>\n",
              "    </tr>\n",
              "    <tr>\n",
              "      <td>15</td>\n",
              "      <td>Married</td>\n",
              "      <td>0.012558</td>\n",
              "    </tr>\n",
              "    <tr>\n",
              "      <td>16</td>\n",
              "      <td>Gender</td>\n",
              "      <td>0.009452</td>\n",
              "    </tr>\n",
              "  </tbody>\n",
              "</table>\n",
              "</div>"
            ],
            "text/plain": [
              "                Driver  Importancia\n",
              "0       Credit_History     0.276158\n",
              "1       Cuota_Ingreso2     0.096568\n",
              "2          TotalIncome     0.087716\n",
              "3       Cuota_Ingreso1     0.075175\n",
              "4   Cuota_Ingreso_Hijo     0.072900\n",
              "5      ApplicantIncome     0.072539\n",
              "6          AmountxTerm     0.055336\n",
              "7       Log_LoanAmount     0.049172\n",
              "8    CoapplicantIncome     0.043157\n",
              "9           LoanAmount     0.042345\n",
              "10       Property_Area     0.030729\n",
              "11    Loan_Amount_Term     0.023702\n",
              "12          Dependents     0.018352\n",
              "13           Education     0.017938\n",
              "14       Self_Employed     0.016204\n",
              "15             Married     0.012558\n",
              "16              Gender     0.009452"
            ]
          },
          "metadata": {
            "tags": []
          },
          "execution_count": 39
        }
      ]
    },
    {
      "cell_type": "code",
      "metadata": {
        "id": "OMbKqgQ3XKis",
        "colab_type": "code",
        "colab": {}
      },
      "source": [
        "# Instalamos Boruta\n",
        "# ! pip install Boruta"
      ],
      "execution_count": null,
      "outputs": []
    },
    {
      "cell_type": "code",
      "metadata": {
        "collapsed": true,
        "id": "9rLR17FwXKit",
        "colab_type": "code",
        "colab": {},
        "outputId": "83df47f0-b54e-42e2-a2d4-7d15bbfc71a6"
      },
      "source": [
        "# Seleccion Boruta (Permutaciones de arboles)\n",
        "from sklearn.ensemble import RandomForestClassifier\n",
        "from boruta import BorutaPy\n",
        "\n",
        "rfc = RandomForestClassifier()\n",
        "boruta_selector = BorutaPy(rfc, n_estimators=20,verbose=2)\n",
        "\n",
        "x=x_train.values\n",
        "y=y_train.values\n",
        "\n",
        "boruta_selector.fit(x,y)\n",
        "\n",
        "print(\"==============BORUTA==============\")\n",
        "print (boruta_selector.n_features_)"
      ],
      "execution_count": null,
      "outputs": [
        {
          "output_type": "stream",
          "text": [
            "Iteration: \t1 / 100\n",
            "Confirmed: \t0\n",
            "Tentative: \t17\n",
            "Rejected: \t0\n",
            "Iteration: \t2 / 100\n",
            "Confirmed: \t0\n",
            "Tentative: \t17\n",
            "Rejected: \t0\n",
            "Iteration: \t3 / 100\n",
            "Confirmed: \t0\n",
            "Tentative: \t17\n",
            "Rejected: \t0\n",
            "Iteration: \t4 / 100\n",
            "Confirmed: \t0\n",
            "Tentative: \t17\n",
            "Rejected: \t0\n",
            "Iteration: \t5 / 100\n",
            "Confirmed: \t0\n",
            "Tentative: \t17\n",
            "Rejected: \t0\n",
            "Iteration: \t6 / 100\n",
            "Confirmed: \t0\n",
            "Tentative: \t17\n",
            "Rejected: \t0\n",
            "Iteration: \t7 / 100\n",
            "Confirmed: \t0\n",
            "Tentative: \t17\n",
            "Rejected: \t0\n",
            "Iteration: \t8 / 100\n",
            "Confirmed: \t0\n",
            "Tentative: \t5\n",
            "Rejected: \t12\n",
            "Iteration: \t9 / 100\n",
            "Confirmed: \t1\n",
            "Tentative: \t4\n",
            "Rejected: \t12\n",
            "Iteration: \t10 / 100\n",
            "Confirmed: \t1\n",
            "Tentative: \t4\n",
            "Rejected: \t12\n",
            "Iteration: \t11 / 100\n",
            "Confirmed: \t1\n",
            "Tentative: \t4\n",
            "Rejected: \t12\n",
            "Iteration: \t12 / 100\n",
            "Confirmed: \t1\n",
            "Tentative: \t4\n",
            "Rejected: \t12\n",
            "Iteration: \t13 / 100\n",
            "Confirmed: \t1\n",
            "Tentative: \t4\n",
            "Rejected: \t12\n",
            "Iteration: \t14 / 100\n",
            "Confirmed: \t1\n",
            "Tentative: \t4\n",
            "Rejected: \t12\n",
            "Iteration: \t15 / 100\n",
            "Confirmed: \t1\n",
            "Tentative: \t4\n",
            "Rejected: \t12\n",
            "Iteration: \t16 / 100\n",
            "Confirmed: \t1\n",
            "Tentative: \t4\n",
            "Rejected: \t12\n",
            "Iteration: \t17 / 100\n",
            "Confirmed: \t1\n",
            "Tentative: \t4\n",
            "Rejected: \t12\n",
            "Iteration: \t18 / 100\n",
            "Confirmed: \t1\n",
            "Tentative: \t4\n",
            "Rejected: \t12\n",
            "Iteration: \t19 / 100\n",
            "Confirmed: \t1\n",
            "Tentative: \t4\n",
            "Rejected: \t12\n",
            "Iteration: \t20 / 100\n",
            "Confirmed: \t1\n",
            "Tentative: \t4\n",
            "Rejected: \t12\n",
            "Iteration: \t21 / 100\n",
            "Confirmed: \t1\n",
            "Tentative: \t4\n",
            "Rejected: \t12\n",
            "Iteration: \t22 / 100\n",
            "Confirmed: \t1\n",
            "Tentative: \t3\n",
            "Rejected: \t13\n",
            "Iteration: \t23 / 100\n",
            "Confirmed: \t1\n",
            "Tentative: \t3\n",
            "Rejected: \t13\n",
            "Iteration: \t24 / 100\n",
            "Confirmed: \t1\n",
            "Tentative: \t3\n",
            "Rejected: \t13\n",
            "Iteration: \t25 / 100\n",
            "Confirmed: \t1\n",
            "Tentative: \t3\n",
            "Rejected: \t13\n",
            "Iteration: \t26 / 100\n",
            "Confirmed: \t1\n",
            "Tentative: \t2\n",
            "Rejected: \t14\n",
            "Iteration: \t27 / 100\n",
            "Confirmed: \t1\n",
            "Tentative: \t2\n",
            "Rejected: \t14\n",
            "Iteration: \t28 / 100\n",
            "Confirmed: \t1\n",
            "Tentative: \t2\n",
            "Rejected: \t14\n",
            "Iteration: \t29 / 100\n",
            "Confirmed: \t1\n",
            "Tentative: \t2\n",
            "Rejected: \t14\n",
            "Iteration: \t30 / 100\n",
            "Confirmed: \t1\n",
            "Tentative: \t2\n",
            "Rejected: \t14\n",
            "Iteration: \t31 / 100\n",
            "Confirmed: \t1\n",
            "Tentative: \t2\n",
            "Rejected: \t14\n",
            "Iteration: \t32 / 100\n",
            "Confirmed: \t1\n",
            "Tentative: \t2\n",
            "Rejected: \t14\n",
            "Iteration: \t33 / 100\n",
            "Confirmed: \t1\n",
            "Tentative: \t2\n",
            "Rejected: \t14\n",
            "Iteration: \t34 / 100\n",
            "Confirmed: \t1\n",
            "Tentative: \t2\n",
            "Rejected: \t14\n",
            "Iteration: \t35 / 100\n",
            "Confirmed: \t1\n",
            "Tentative: \t2\n",
            "Rejected: \t14\n",
            "Iteration: \t36 / 100\n",
            "Confirmed: \t1\n",
            "Tentative: \t2\n",
            "Rejected: \t14\n",
            "Iteration: \t37 / 100\n",
            "Confirmed: \t1\n",
            "Tentative: \t2\n",
            "Rejected: \t14\n",
            "Iteration: \t38 / 100\n",
            "Confirmed: \t1\n",
            "Tentative: \t2\n",
            "Rejected: \t14\n",
            "Iteration: \t39 / 100\n",
            "Confirmed: \t1\n",
            "Tentative: \t2\n",
            "Rejected: \t14\n",
            "Iteration: \t40 / 100\n",
            "Confirmed: \t1\n",
            "Tentative: \t2\n",
            "Rejected: \t14\n",
            "Iteration: \t41 / 100\n",
            "Confirmed: \t1\n",
            "Tentative: \t2\n",
            "Rejected: \t14\n",
            "Iteration: \t42 / 100\n",
            "Confirmed: \t1\n",
            "Tentative: \t2\n",
            "Rejected: \t14\n",
            "Iteration: \t43 / 100\n",
            "Confirmed: \t1\n",
            "Tentative: \t2\n",
            "Rejected: \t14\n",
            "Iteration: \t44 / 100\n",
            "Confirmed: \t1\n",
            "Tentative: \t2\n",
            "Rejected: \t14\n",
            "Iteration: \t45 / 100\n",
            "Confirmed: \t1\n",
            "Tentative: \t2\n",
            "Rejected: \t14\n",
            "Iteration: \t46 / 100\n",
            "Confirmed: \t1\n",
            "Tentative: \t2\n",
            "Rejected: \t14\n",
            "Iteration: \t47 / 100\n",
            "Confirmed: \t1\n",
            "Tentative: \t2\n",
            "Rejected: \t14\n",
            "Iteration: \t48 / 100\n",
            "Confirmed: \t1\n",
            "Tentative: \t2\n",
            "Rejected: \t14\n",
            "Iteration: \t49 / 100\n",
            "Confirmed: \t1\n",
            "Tentative: \t2\n",
            "Rejected: \t14\n",
            "Iteration: \t50 / 100\n",
            "Confirmed: \t1\n",
            "Tentative: \t2\n",
            "Rejected: \t14\n",
            "Iteration: \t51 / 100\n",
            "Confirmed: \t1\n",
            "Tentative: \t2\n",
            "Rejected: \t14\n",
            "Iteration: \t52 / 100\n",
            "Confirmed: \t1\n",
            "Tentative: \t2\n",
            "Rejected: \t14\n",
            "Iteration: \t53 / 100\n",
            "Confirmed: \t1\n",
            "Tentative: \t2\n",
            "Rejected: \t14\n",
            "Iteration: \t54 / 100\n",
            "Confirmed: \t1\n",
            "Tentative: \t2\n",
            "Rejected: \t14\n",
            "Iteration: \t55 / 100\n",
            "Confirmed: \t1\n",
            "Tentative: \t2\n",
            "Rejected: \t14\n",
            "Iteration: \t56 / 100\n",
            "Confirmed: \t1\n",
            "Tentative: \t2\n",
            "Rejected: \t14\n",
            "Iteration: \t57 / 100\n",
            "Confirmed: \t1\n",
            "Tentative: \t2\n",
            "Rejected: \t14\n",
            "Iteration: \t58 / 100\n",
            "Confirmed: \t1\n",
            "Tentative: \t2\n",
            "Rejected: \t14\n",
            "Iteration: \t59 / 100\n",
            "Confirmed: \t1\n",
            "Tentative: \t2\n",
            "Rejected: \t14\n",
            "Iteration: \t60 / 100\n",
            "Confirmed: \t1\n",
            "Tentative: \t2\n",
            "Rejected: \t14\n",
            "Iteration: \t61 / 100\n",
            "Confirmed: \t1\n",
            "Tentative: \t2\n",
            "Rejected: \t14\n",
            "Iteration: \t62 / 100\n",
            "Confirmed: \t1\n",
            "Tentative: \t2\n",
            "Rejected: \t14\n",
            "Iteration: \t63 / 100\n",
            "Confirmed: \t1\n",
            "Tentative: \t2\n",
            "Rejected: \t14\n",
            "Iteration: \t64 / 100\n",
            "Confirmed: \t1\n",
            "Tentative: \t2\n",
            "Rejected: \t14\n",
            "Iteration: \t65 / 100\n",
            "Confirmed: \t1\n",
            "Tentative: \t2\n",
            "Rejected: \t14\n",
            "Iteration: \t66 / 100\n",
            "Confirmed: \t1\n",
            "Tentative: \t2\n",
            "Rejected: \t14\n",
            "Iteration: \t67 / 100\n",
            "Confirmed: \t1\n",
            "Tentative: \t2\n",
            "Rejected: \t14\n",
            "Iteration: \t68 / 100\n",
            "Confirmed: \t1\n",
            "Tentative: \t2\n",
            "Rejected: \t14\n",
            "Iteration: \t69 / 100\n",
            "Confirmed: \t1\n",
            "Tentative: \t2\n",
            "Rejected: \t14\n",
            "Iteration: \t70 / 100\n",
            "Confirmed: \t1\n",
            "Tentative: \t2\n",
            "Rejected: \t14\n",
            "Iteration: \t71 / 100\n",
            "Confirmed: \t1\n",
            "Tentative: \t2\n",
            "Rejected: \t14\n",
            "Iteration: \t72 / 100\n",
            "Confirmed: \t1\n",
            "Tentative: \t2\n",
            "Rejected: \t14\n",
            "Iteration: \t73 / 100\n",
            "Confirmed: \t1\n",
            "Tentative: \t2\n",
            "Rejected: \t14\n",
            "Iteration: \t74 / 100\n",
            "Confirmed: \t1\n",
            "Tentative: \t2\n",
            "Rejected: \t14\n",
            "Iteration: \t75 / 100\n",
            "Confirmed: \t1\n",
            "Tentative: \t2\n",
            "Rejected: \t14\n",
            "Iteration: \t76 / 100\n",
            "Confirmed: \t1\n",
            "Tentative: \t2\n",
            "Rejected: \t14\n",
            "Iteration: \t77 / 100\n",
            "Confirmed: \t1\n",
            "Tentative: \t2\n",
            "Rejected: \t14\n",
            "Iteration: \t78 / 100\n",
            "Confirmed: \t1\n",
            "Tentative: \t2\n",
            "Rejected: \t14\n",
            "Iteration: \t79 / 100\n",
            "Confirmed: \t1\n",
            "Tentative: \t2\n",
            "Rejected: \t14\n",
            "Iteration: \t80 / 100\n",
            "Confirmed: \t1\n",
            "Tentative: \t2\n",
            "Rejected: \t14\n",
            "Iteration: \t81 / 100\n",
            "Confirmed: \t1\n",
            "Tentative: \t2\n",
            "Rejected: \t14\n",
            "Iteration: \t82 / 100\n",
            "Confirmed: \t1\n",
            "Tentative: \t2\n",
            "Rejected: \t14\n",
            "Iteration: \t83 / 100\n",
            "Confirmed: \t1\n",
            "Tentative: \t2\n",
            "Rejected: \t14\n",
            "Iteration: \t84 / 100\n",
            "Confirmed: \t1\n",
            "Tentative: \t2\n",
            "Rejected: \t14\n",
            "Iteration: \t85 / 100\n",
            "Confirmed: \t1\n",
            "Tentative: \t2\n",
            "Rejected: \t14\n",
            "Iteration: \t86 / 100\n",
            "Confirmed: \t1\n",
            "Tentative: \t2\n",
            "Rejected: \t14\n",
            "Iteration: \t87 / 100\n",
            "Confirmed: \t1\n",
            "Tentative: \t2\n",
            "Rejected: \t14\n",
            "Iteration: \t88 / 100\n",
            "Confirmed: \t1\n",
            "Tentative: \t2\n",
            "Rejected: \t14\n",
            "Iteration: \t89 / 100\n",
            "Confirmed: \t1\n",
            "Tentative: \t2\n",
            "Rejected: \t14\n",
            "Iteration: \t90 / 100\n",
            "Confirmed: \t1\n",
            "Tentative: \t2\n",
            "Rejected: \t14\n",
            "Iteration: \t91 / 100\n",
            "Confirmed: \t1\n",
            "Tentative: \t2\n",
            "Rejected: \t14\n",
            "Iteration: \t92 / 100\n",
            "Confirmed: \t1\n",
            "Tentative: \t2\n",
            "Rejected: \t14\n",
            "Iteration: \t93 / 100\n",
            "Confirmed: \t1\n",
            "Tentative: \t2\n",
            "Rejected: \t14\n",
            "Iteration: \t94 / 100\n",
            "Confirmed: \t1\n",
            "Tentative: \t2\n",
            "Rejected: \t14\n",
            "Iteration: \t95 / 100\n",
            "Confirmed: \t1\n",
            "Tentative: \t2\n",
            "Rejected: \t14\n",
            "Iteration: \t96 / 100\n",
            "Confirmed: \t1\n",
            "Tentative: \t2\n",
            "Rejected: \t14\n",
            "Iteration: \t97 / 100\n",
            "Confirmed: \t1\n",
            "Tentative: \t2\n",
            "Rejected: \t14\n",
            "Iteration: \t98 / 100\n",
            "Confirmed: \t1\n",
            "Tentative: \t2\n",
            "Rejected: \t14\n",
            "Iteration: \t99 / 100\n",
            "Confirmed: \t1\n",
            "Tentative: \t2\n",
            "Rejected: \t14\n",
            "\n",
            "\n",
            "BorutaPy finished running.\n",
            "\n",
            "Iteration: \t100 / 100\n",
            "Confirmed: \t1\n",
            "Tentative: \t2\n",
            "Rejected: \t14\n",
            "==============BORUTA==============\n",
            "1\n"
          ],
          "name": "stdout"
        }
      ]
    },
    {
      "cell_type": "code",
      "metadata": {
        "id": "pqVGAosXXKiw",
        "colab_type": "code",
        "colab": {}
      },
      "source": [
        "# Observamos cual de las variables el algoritmo eligio\n",
        "x_train_Bor = x_train.columns[boruta_selector.support_]"
      ],
      "execution_count": null,
      "outputs": []
    },
    {
      "cell_type": "code",
      "metadata": {
        "id": "elr-XeImXKiy",
        "colab_type": "code",
        "colab": {},
        "outputId": "5ae0c242-62cb-4e11-f6d2-96a69a267705"
      },
      "source": [
        "x_train_Bor"
      ],
      "execution_count": null,
      "outputs": [
        {
          "output_type": "execute_result",
          "data": {
            "text/plain": [
              "Index(['Credit_History'], dtype='object')"
            ]
          },
          "metadata": {
            "tags": []
          },
          "execution_count": 50
        }
      ]
    },
    {
      "cell_type": "code",
      "metadata": {
        "id": "_KBhmEQtXKiz",
        "colab_type": "code",
        "colab": {}
      },
      "source": [
        "# Si deseamos , podemos elegir las variables mas importantes\n",
        "x_train_subset =x_train[[\"Credit_History\",\"Cuota_Ingreso1\",\"Cuota_Ingreso_Hijo\",\"LoanAmount\"]]"
      ],
      "execution_count": null,
      "outputs": []
    },
    {
      "cell_type": "code",
      "metadata": {
        "id": "YXPprMwiXKi1",
        "colab_type": "code",
        "colab": {}
      },
      "source": [
        "########################################\n",
        "# Modelamiento de los datos\n",
        "########################################"
      ],
      "execution_count": null,
      "outputs": []
    },
    {
      "cell_type": "code",
      "metadata": {
        "id": "XF6SK67XXKi4",
        "colab_type": "code",
        "colab": {}
      },
      "source": [
        "## Modelos Supervisados : Arbol CART ##"
      ],
      "execution_count": null,
      "outputs": []
    },
    {
      "cell_type": "code",
      "metadata": {
        "id": "lfldnpwyXKi5",
        "colab_type": "code",
        "colab": {},
        "outputId": "1f64576d-ae38-45ce-ea37-0a78ef0c927c"
      },
      "source": [
        "# Paso N°01: Llamar un algoritmo predictivos\n",
        "from sklearn.tree import DecisionTreeClassifier\n",
        "#Parámetros del árbol de clasificación\n",
        "# criterion  , splitter ,max_depth,min_impurity_decrease,min_impurity_split,min_samples_leaf,min_samples_split,splitter\n",
        "cart = DecisionTreeClassifier(criterion='entropy',max_depth=5,max_features=\"sqrt\")\n",
        "cart.fit(x_train, y_train) # Entrenamos el algoritmo"
      ],
      "execution_count": null,
      "outputs": [
        {
          "output_type": "execute_result",
          "data": {
            "text/plain": [
              "DecisionTreeClassifier(class_weight=None, criterion='entropy', max_depth=5,\n",
              "                       max_features='sqrt', max_leaf_nodes=None,\n",
              "                       min_impurity_decrease=0.0, min_impurity_split=None,\n",
              "                       min_samples_leaf=1, min_samples_split=2,\n",
              "                       min_weight_fraction_leaf=0.0, presort=False,\n",
              "                       random_state=None, splitter='best')"
            ]
          },
          "metadata": {
            "tags": []
          },
          "execution_count": 55
        }
      ]
    },
    {
      "cell_type": "code",
      "metadata": {
        "id": "8tSn9yJyXKi7",
        "colab_type": "code",
        "colab": {}
      },
      "source": [
        "# Paso N°04: Predecir con el algoritmo entrenado para validar\n",
        "y_pred_train=cart.predict(x_train) # Prediccion sobre el train\n",
        "y_pred_test= cart.predict(x_test) # Prediccion sobre el test"
      ],
      "execution_count": null,
      "outputs": []
    },
    {
      "cell_type": "code",
      "metadata": {
        "id": "X25C-lbxXKi9",
        "colab_type": "code",
        "colab": {},
        "outputId": "88e4d379-7ab5-44b2-a8dd-68c2b0be8a7b"
      },
      "source": [
        "# Paso N°05: Comparar el valor pronosticado con el valor real\n",
        "\n",
        "from sklearn import metrics as metrics\n",
        "# Matriz de confusion\n",
        "print(\"Matriz confusion: Train\")\n",
        "cm_train = metrics.confusion_matrix(y_train,y_pred_train)\n",
        "print(cm_train)\n",
        "\n",
        "print(\"Matriz confusion: Test\")\n",
        "cm_test = metrics.confusion_matrix(y_test,y_pred_test)\n",
        "print(cm_test)\n",
        "\n",
        "# Accuracy\n",
        "print(\"Accuracy: Train\")\n",
        "accuracy_train=metrics.accuracy_score(y_train,y_pred_train)\n",
        "print(accuracy_train)\n",
        "\n",
        "print(\"Accuracy: Test\")\n",
        "accuracy_test=metrics.accuracy_score(y_test,y_pred_test)\n",
        "print(accuracy_test)\n",
        "\n",
        "# Precision\n",
        "print(\"Precision: Train\")\n",
        "precision_train=metrics.precision_score(y_train,y_pred_train)\n",
        "print(precision_train)\n",
        "\n",
        "print(\"Precision: Test\")\n",
        "precision_test=metrics.precision_score(y_test,y_pred_test)\n",
        "print(precision_test)\n",
        "\n",
        "# Recall\n",
        "print(\"Recall: Train\")\n",
        "recall_train=metrics.recall_score(y_train,y_pred_train)\n",
        "print(recall_train)\n",
        "\n",
        "print(\"Recall: Test\")\n",
        "recall_test=metrics.recall_score(y_test,y_pred_test)\n",
        "print(recall_test)"
      ],
      "execution_count": null,
      "outputs": [
        {
          "output_type": "stream",
          "text": [
            "Matriz confusion: Train\n",
            "[[ 71  63]\n",
            " [  9 286]]\n",
            "Matriz confusion: Test\n",
            "[[ 25  33]\n",
            " [  9 118]]\n",
            "Accuracy: Train\n",
            "0.8321678321678322\n",
            "Accuracy: Test\n",
            "0.772972972972973\n",
            "Precision: Train\n",
            "0.8194842406876791\n",
            "Precision: Test\n",
            "0.7814569536423841\n",
            "Recall: Train\n",
            "0.9694915254237289\n",
            "Recall: Test\n",
            "0.9291338582677166\n"
          ],
          "name": "stdout"
        }
      ]
    },
    {
      "cell_type": "code",
      "metadata": {
        "id": "u4F3VgysXKi_",
        "colab_type": "code",
        "colab": {}
      },
      "source": [
        "#! pip install --user plot_metric\n",
        "#! pip install h5py"
      ],
      "execution_count": null,
      "outputs": []
    },
    {
      "cell_type": "code",
      "metadata": {
        "id": "koQs2QWvXKjC",
        "colab_type": "code",
        "colab": {}
      },
      "source": [
        "# Instalamos la libreria plot_metric para visualizar nuestros resultados\n",
        "from plot_metric.functions import BinaryClassification"
      ],
      "execution_count": null,
      "outputs": []
    },
    {
      "cell_type": "code",
      "metadata": {
        "id": "bU5eylCFXKjD",
        "colab_type": "code",
        "colab": {}
      },
      "source": [
        "bc = BinaryClassification(y_test, y_pred_test, labels=[\"No Prestamo\", \"Prestamo\"])"
      ],
      "execution_count": null,
      "outputs": []
    },
    {
      "cell_type": "code",
      "metadata": {
        "id": "GC4_q_9iXKjE",
        "colab_type": "code",
        "colab": {},
        "outputId": "b6172784-7e20-48e0-9977-972987c18daf"
      },
      "source": [
        "# Grafico de Indicadores de Validacion\n",
        "plt.figure(figsize=(15,10))\n",
        "plt.subplot2grid(shape=(2,6), loc=(0,0), colspan=2)\n",
        "bc.plot_roc_curve()\n",
        "plt.subplot2grid((2,6), (0,2), colspan=2)\n",
        "bc.plot_precision_recall_curve()\n",
        "plt.subplot2grid((2,6), (0,4), colspan=2)\n",
        "bc.plot_class_distribution()\n",
        "plt.subplot2grid((2,6), (1,1), colspan=2)\n",
        "bc.plot_confusion_matrix()\n",
        "plt.subplot2grid((2,6), (1,3), colspan=2)\n",
        "bc.plot_confusion_matrix(normalize=True)\n",
        "plt.show()\n",
        "bc.print_report()"
      ],
      "execution_count": null,
      "outputs": [
        {
          "output_type": "display_data",
          "data": {
            "image/png": "[encoded data removed]",
            "text/plain": [
              "<Figure size 1080x720 with 7 Axes>"
            ]
          },
          "metadata": {
            "tags": []
          }
        },
        {
          "output_type": "stream",
          "text": [
            "                   ________________________\n",
            "                  |  Classification Report |\n",
            "                   ‾‾‾‾‾‾‾‾‾‾‾‾‾‾‾‾‾‾‾‾‾‾‾‾\n",
            "              precision    recall  f1-score   support\n",
            "\n",
            " No Prestamo       0.74      0.43      0.54        58\n",
            "    Prestamo       0.78      0.93      0.85       127\n",
            "\n",
            "    accuracy                           0.77       185\n",
            "   macro avg       0.76      0.68      0.70       185\n",
            "weighted avg       0.77      0.77      0.75       185\n",
            "\n"
          ],
          "name": "stdout"
        }
      ]
    },
    {
      "cell_type": "code",
      "metadata": {
        "id": "-_HImMK_XKjG",
        "colab_type": "code",
        "colab": {}
      },
      "source": [
        "##################################################\n",
        "## Implementación de Modelos de Machine Learning\n",
        "##################################################"
      ],
      "execution_count": null,
      "outputs": []
    },
    {
      "cell_type": "code",
      "metadata": {
        "id": "EOXLx1RNXKjH",
        "colab_type": "code",
        "colab": {}
      },
      "source": [
        "# Leemos el dataset de implementacion, podria ser una informacion a enivar a campanas\n",
        "implemt = pd.read_csv(ruta + \"test.csv\") "
      ],
      "execution_count": null,
      "outputs": []
    },
    {
      "cell_type": "code",
      "metadata": {
        "id": "XsY9dBMAXKjI",
        "colab_type": "code",
        "colab": {}
      },
      "source": [
        "# Todo lo realizado en el dataset de entrenamiento del modelo lo debemos replicar en el dataset de scoring"
      ],
      "execution_count": null,
      "outputs": []
    },
    {
      "cell_type": "code",
      "metadata": {
        "id": "S967Lm3xXKjL",
        "colab_type": "code",
        "colab": {}
      },
      "source": [
        "# Imputamos los valores cualitativos por Moda\n",
        "imput_cat_moda(implemt)\n",
        "\n",
        "# implemt.Gender = implemt.Gender.fillna(\"Male\")\n",
        "# implemt.Married = implemt.Married.fillna(\"Yes\")\n",
        "# implemt.Self_Employed = implemt.Self_Employed.fillna(\"Yes\")\n",
        "# implemt.Credit_History = implemt.Credit_History.fillna(\"1\")\n",
        "# implemt.Dependents = implemt.Dependents.fillna(\"0\")"
      ],
      "execution_count": null,
      "outputs": []
    },
    {
      "cell_type": "code",
      "metadata": {
        "id": "jORLQsYxXKjN",
        "colab_type": "code",
        "colab": {}
      },
      "source": [
        "col_num=var_num_cat(implemt,'num')\n",
        "col_cat=var_num_cat(implemt,'cat')\n",
        "col_cat=col_cat[1:len(col_cat)]"
      ],
      "execution_count": null,
      "outputs": []
    },
    {
      "cell_type": "code",
      "metadata": {
        "id": "_pTguetbXKjO",
        "colab_type": "code",
        "colab": {},
        "outputId": "a518f458-0262-41c0-e7e6-9a5f44570095"
      },
      "source": [
        "# Preprocesamiento con LabelEncoder\n",
        "for c in col_cat:\n",
        "    print(str(c))\n",
        "    le = LabelEncoder()\n",
        "    le.fit(implemt[str(c)])\n",
        "    implemt[str(c)]=le.transform(implemt[str(c)]) "
      ],
      "execution_count": null,
      "outputs": [
        {
          "output_type": "stream",
          "text": [
            "Gender\n",
            "Married\n",
            "Dependents\n",
            "Education\n",
            "Self_Employed\n",
            "Property_Area\n"
          ],
          "name": "stdout"
        }
      ]
    },
    {
      "cell_type": "code",
      "metadata": {
        "id": "ZtfdDSlpXKjQ",
        "colab_type": "code",
        "colab": {},
        "outputId": "d2649724-3571-425f-e81c-0f1f8b321334"
      },
      "source": [
        "implemt.info()"
      ],
      "execution_count": null,
      "outputs": [
        {
          "output_type": "stream",
          "text": [
            "<class 'pandas.core.frame.DataFrame'>\n",
            "RangeIndex: 367 entries, 0 to 366\n",
            "Data columns (total 12 columns):\n",
            "Loan_ID              367 non-null object\n",
            "Gender               367 non-null int32\n",
            "Married              367 non-null int32\n",
            "Dependents           367 non-null int32\n",
            "Education            367 non-null int32\n",
            "Self_Employed        367 non-null int32\n",
            "ApplicantIncome      367 non-null int64\n",
            "CoapplicantIncome    367 non-null int64\n",
            "LoanAmount           362 non-null float64\n",
            "Loan_Amount_Term     361 non-null float64\n",
            "Credit_History       338 non-null float64\n",
            "Property_Area        367 non-null int32\n",
            "dtypes: float64(3), int32(6), int64(2), object(1)\n",
            "memory usage: 25.9+ KB\n"
          ],
          "name": "stdout"
        }
      ]
    },
    {
      "cell_type": "code",
      "metadata": {
        "id": "wLplupJ8XKjS",
        "colab_type": "code",
        "colab": {}
      },
      "source": [
        "# Imputamos los valores cuantitativos por Media o Mediana\n",
        "## Median\n",
        "imput_num_mediana(implemt)\n",
        "\n",
        "# for c in columnas_numericas:\n",
        "#     median = implemt[c].median()\n",
        "#     implemt[c].fillna(median, inplace=True)"
      ],
      "execution_count": null,
      "outputs": []
    },
    {
      "cell_type": "code",
      "metadata": {
        "id": "TZiD1eY6XKjT",
        "colab_type": "code",
        "colab": {},
        "outputId": "9c8e7fa2-b4fa-458a-f645-2ecf8fdb2464"
      },
      "source": [
        "implemt.isnull().sum()"
      ],
      "execution_count": null,
      "outputs": [
        {
          "output_type": "execute_result",
          "data": {
            "text/plain": [
              "Loan_ID              0\n",
              "Gender               0\n",
              "Married              0\n",
              "Dependents           0\n",
              "Education            0\n",
              "Self_Employed        0\n",
              "ApplicantIncome      0\n",
              "CoapplicantIncome    0\n",
              "LoanAmount           0\n",
              "Loan_Amount_Term     0\n",
              "Credit_History       0\n",
              "Property_Area        0\n",
              "dtype: int64"
            ]
          },
          "metadata": {
            "tags": []
          },
          "execution_count": 92
        }
      ]
    },
    {
      "cell_type": "code",
      "metadata": {
        "id": "8MX61dSEXKjW",
        "colab_type": "code",
        "colab": {}
      },
      "source": [
        "# Ingenieria de datos\n",
        "#Creamos las mismas variables que utilizamos en el train\n",
        "implemt['TotalIncome']    = implemt['ApplicantIncome'] + implemt['CoapplicantIncome']\n",
        "implemt['Log_LoanAmount'] = round(np.log(implemt['LoanAmount']+1),2)"
      ],
      "execution_count": null,
      "outputs": []
    },
    {
      "cell_type": "code",
      "metadata": {
        "id": "AmNYjFDSXKjX",
        "colab_type": "code",
        "colab": {}
      },
      "source": [
        "implemt['AmountxTerm']    = round(implemt['LoanAmount']/implemt['Loan_Amount_Term'],2)\n",
        "implemt[\"Cuota_Ingreso1\"] = (1000*implemt[\"LoanAmount\"]/implemt[\"Loan_Amount_Term\"])/(implemt[\"ApplicantIncome\"] +1)\n",
        "implemt[\"Cuota_Ingreso2\"] = (1000*implemt[\"LoanAmount\"]/implemt[\"Loan_Amount_Term\"])/(implemt[\"TotalIncome\"] +1)\n",
        "implemt[\"Cuota_Ingreso_Hijo\"] = (1000*implemt[\"LoanAmount\"]/implemt[\"Loan_Amount_Term\"])/(implemt[\"TotalIncome\"]/(implemt[\"Dependents\"]+1))"
      ],
      "execution_count": null,
      "outputs": []
    },
    {
      "cell_type": "code",
      "metadata": {
        "id": "9NBDmOaPXKjY",
        "colab_type": "code",
        "colab": {}
      },
      "source": [
        "## Una vez que tenemos todas las variables podemos scorear o puntuar los registros"
      ],
      "execution_count": null,
      "outputs": []
    },
    {
      "cell_type": "code",
      "metadata": {
        "id": "Fg7jXKJkXKjZ",
        "colab_type": "code",
        "colab": {}
      },
      "source": [
        "df_scoring = implemt.drop(\"Loan_ID\",axis=1)"
      ],
      "execution_count": null,
      "outputs": []
    },
    {
      "cell_type": "code",
      "metadata": {
        "id": "rjD8Hz7oXKja",
        "colab_type": "code",
        "colab": {}
      },
      "source": [
        "df_scoring.Credit_History = df_scoring.Credit_History.astype('int')"
      ],
      "execution_count": null,
      "outputs": []
    },
    {
      "cell_type": "code",
      "metadata": {
        "id": "wTOCuWpUXKjb",
        "colab_type": "code",
        "colab": {}
      },
      "source": [
        "# Predecimos con la data nueva\n",
        "y_scoring = cart.predict(df_scoring)"
      ],
      "execution_count": null,
      "outputs": []
    },
    {
      "cell_type": "code",
      "metadata": {
        "id": "absItuJAXKjd",
        "colab_type": "code",
        "colab": {}
      },
      "source": [
        "# Predecimos sobre el set de datos de implementacion con el modelo entrenado\n",
        "# Juntamos el ID con la clase\n",
        "data = np.hstack((implemt['Loan_ID'].values.reshape(-1,1), y_scoring.reshape(-1,1)))\n",
        "# Le asignamos nombres a las columnas\n",
        "df_submmit = pd.DataFrame(data, columns=['Loan_ID','Loan_Status'])\n",
        "# Convertimos al formato solicitado por Analytics Vidhya\n",
        "df_submmit['Loan_Status']=[\"Y\" if i == 1 else \"N\" for i in df_submmit['Loan_Status']]\n",
        "# Exportamos la solucion\n",
        "df_submmit.to_csv(ruta+'Sol_Cart.csv', index=False)"
      ],
      "execution_count": null,
      "outputs": []
    },
    {
      "cell_type": "code",
      "metadata": {
        "id": "nkvyvbUUXKjg",
        "colab_type": "code",
        "colab": {}
      },
      "source": [
        "# Fin !!"
      ],
      "execution_count": null,
      "outputs": []
    }
  ]
}